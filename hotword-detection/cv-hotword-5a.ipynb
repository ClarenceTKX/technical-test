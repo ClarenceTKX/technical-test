{
 "cells": [
  {
   "cell_type": "markdown",
   "id": "db781c01-3a63-4008-8bb6-f724c216703f",
   "metadata": {},
   "source": [
    "## Hotword Detection\n",
    "In this task, the first part will include the use of Regex to detect \"hotwords\" found within transcribed audio files and extract out those with a match. For the three words specified, a list of the audio files with any of the detected hotwords will be generated as `detected.txt`. "
   ]
  },
  {
   "cell_type": "code",
   "execution_count": 1,
   "id": "a0c62a41-a73b-4eac-b7c5-bcc5a7c8c2c6",
   "metadata": {},
   "outputs": [
    {
     "name": "stderr",
     "output_type": "stream",
     "text": [
      "C:\\Users\\Clarence\\AppData\\Local\\Temp\\ipykernel_33692\\2372762684.py:11: FutureWarning: Setting an item of incompatible dtype is deprecated and will raise in a future error of pandas. Value '' has dtype incompatible with float64, please explicitly cast to a compatible dtype first.\n",
      "  df.fillna('', inplace=True)\n"
     ]
    }
   ],
   "source": [
    "import pandas as pd\n",
    "import re\n",
    "\n",
    "# Load CSV file\n",
    "# Read the CSV file\n",
    "df = pd.read_csv('C:/Users/Clarence/Desktop/GitHub/technical-test/asr-train/updated_v2_cv-valid-dev.csv') \n",
    "\n",
    "#convert text to lowercase first\n",
    "df['generated_text'] = df['generated_text'].str.lower()\n",
    "df['finetuned_text'] = df['finetuned_text'].str.lower()\n",
    "df.fillna('', inplace=True)\n"
   ]
  },
  {
   "cell_type": "code",
   "execution_count": 2,
   "id": "78616380-a729-4434-b6b2-2a388cc6335e",
   "metadata": {},
   "outputs": [],
   "source": [
    "# Define hotwords and their regex patterns\n",
    "hotwords = {\n",
    "    \"be careful\": r\"be\\s*careful\",\n",
    "    \"destroy\": r\"destroy\",\n",
    "    \"stranger\": r\"stranger\"\n",
    "}\n",
    "\n",
    "# Function to check for hotwords in text\n",
    "def contains_hotword(text, patterns):\n",
    "    for pattern in patterns.values():\n",
    "        if re.search(pattern, text, re.IGNORECASE):\n",
    "            return True\n",
    "    return False\n",
    "\n",
    "# Iterate through the DataFrame and store filenames if hotwords are detected\n",
    "detected_filenames = []\n",
    "for _, row in df.iterrows():\n",
    "    if contains_hotword(row['finetuned_text'], hotwords):\n",
    "        detected_filenames.append(row['filename'])"
   ]
  },
  {
   "cell_type": "code",
   "execution_count": 3,
   "id": "086ec37b-6fb8-477b-8a5e-1b1a81d77899",
   "metadata": {},
   "outputs": [
    {
     "name": "stdout",
     "output_type": "stream",
     "text": [
      "Detected filenames: ['cv-valid-dev/sample-000000.mp3', 'cv-valid-dev/sample-000003.mp3', 'cv-valid-dev/sample-000089.mp3', 'cv-valid-dev/sample-000508.mp3', 'cv-valid-dev/sample-000674.mp3', 'cv-valid-dev/sample-001093.mp3', 'cv-valid-dev/sample-001101.mp3', 'cv-valid-dev/sample-001243.mp3', 'cv-valid-dev/sample-001501.mp3', 'cv-valid-dev/sample-001933.mp3', 'cv-valid-dev/sample-002405.mp3', 'cv-valid-dev/sample-002453.mp3', 'cv-valid-dev/sample-003065.mp3', 'cv-valid-dev/sample-003219.mp3', 'cv-valid-dev/sample-003808.mp3']\n"
     ]
    }
   ],
   "source": [
    "# Optionally, print the list of detected filenames\n",
    "print(\"Detected filenames:\", detected_filenames)"
   ]
  },
  {
   "cell_type": "code",
   "execution_count": 4,
   "id": "1bb0223e-1dfc-4845-a6bd-361b1f04359f",
   "metadata": {},
   "outputs": [],
   "source": [
    "# Save the list of filenames to a text file\n",
    "with open('detected_filenames.txt', 'w') as file:\n",
    "    for filename in detected_filenames:\n",
    "        file.write(filename + '\\n')"
   ]
  }
 ],
 "metadata": {
  "kernelspec": {
   "display_name": "Python 3 (ipykernel)",
   "language": "python",
   "name": "python3"
  },
  "language_info": {
   "codemirror_mode": {
    "name": "ipython",
    "version": 3
   },
   "file_extension": ".py",
   "mimetype": "text/x-python",
   "name": "python",
   "nbconvert_exporter": "python",
   "pygments_lexer": "ipython3",
   "version": "3.11.6"
  }
 },
 "nbformat": 4,
 "nbformat_minor": 5
}
